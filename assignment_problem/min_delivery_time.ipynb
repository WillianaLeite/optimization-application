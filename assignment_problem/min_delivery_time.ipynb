{
 "cells": [
  {
   "cell_type": "markdown",
   "id": "7d9cd026-9e65-4688-bef5-72a8a416c706",
   "metadata": {},
   "source": [
    "# Problem\n",
    "\n",
    "> We have a company with a delivery application and we seek to deliver orders in the shortest possible time, among all possible distributors to make the delivery. \n",
    "\n",
    "We have a defined logic to determine which distributor will be responsible for delivering each order, however in recent months we have noticed that delivery time has increased a lot, and we suspect that the problem lies in this logic and not in the distributors' operations."
   ]
  },
  {
   "cell_type": "markdown",
   "id": "becfaaa7-84ec-423f-8a20-e9a47f07bb0c",
   "metadata": {},
   "source": [
    "# Solution\n",
    "\n",
    "We can build an optimization model that minimizes delivery time. This problem is part of the class of transport problems.\n",
    "\n",
    "As input we receive a matrix with the possible delivery times that each distributor would take to fulfill each order and as output we have the assignment of which orders each distributor must fulfill in a way that minimizes delivery time."
   ]
  },
  {
   "cell_type": "markdown",
   "id": "d129a638-26e3-4531-a9ab-96e4302056ed",
   "metadata": {},
   "source": [
    "### Example"
   ]
  },
  {
   "cell_type": "code",
   "execution_count": 2,
   "id": "7405ec56-d761-4c30-9f4e-248e09a56629",
   "metadata": {},
   "outputs": [],
   "source": [
    "import pandas as pd\n",
    "import numpy as np"
   ]
  },
  {
   "cell_type": "code",
   "execution_count": 3,
   "id": "42656d67-0e40-4eac-b325-ef08863292cd",
   "metadata": {},
   "outputs": [
    {
     "data": {
      "text/html": [
       "<div>\n",
       "<style scoped>\n",
       "    .dataframe tbody tr th:only-of-type {\n",
       "        vertical-align: middle;\n",
       "    }\n",
       "\n",
       "    .dataframe tbody tr th {\n",
       "        vertical-align: top;\n",
       "    }\n",
       "\n",
       "    .dataframe thead th {\n",
       "        text-align: right;\n",
       "    }\n",
       "</style>\n",
       "<table border=\"1\" class=\"dataframe\">\n",
       "  <thead>\n",
       "    <tr style=\"text-align: right;\">\n",
       "      <th></th>\n",
       "      <th>order_1</th>\n",
       "      <th>order_2</th>\n",
       "      <th>order_3</th>\n",
       "      <th>courier_available</th>\n",
       "    </tr>\n",
       "    <tr>\n",
       "      <th>distributor</th>\n",
       "      <th></th>\n",
       "      <th></th>\n",
       "      <th></th>\n",
       "      <th></th>\n",
       "    </tr>\n",
       "  </thead>\n",
       "  <tbody>\n",
       "    <tr>\n",
       "      <th>distributor_1</th>\n",
       "      <td>15</td>\n",
       "      <td>10</td>\n",
       "      <td>9</td>\n",
       "      <td>2</td>\n",
       "    </tr>\n",
       "    <tr>\n",
       "      <th>distributor_2</th>\n",
       "      <td>9</td>\n",
       "      <td>15</td>\n",
       "      <td>10</td>\n",
       "      <td>3</td>\n",
       "    </tr>\n",
       "  </tbody>\n",
       "</table>\n",
       "</div>"
      ],
      "text/plain": [
       "               order_1  order_2  order_3  courier_available\n",
       "distributor                                                \n",
       "distributor_1       15       10        9                  2\n",
       "distributor_2        9       15       10                  3"
      ]
     },
     "execution_count": 3,
     "metadata": {},
     "output_type": "execute_result"
    }
   ],
   "source": [
    "# This time can be historical or a forecast from a separate delivery time model.\n",
    "df_time_delivery = (\n",
    "    pd.DataFrame([('distributor_1', 15, 10, 9, 2), \n",
    "                  ('distributor_2', 9, 15, 10, 3)], columns=['distributor', 'order_1', 'order_2', 'order_3', 'courier_available'])\n",
    "      .set_index('distributor')\n",
    ")\n",
    "\n",
    "df_time_delivery"
   ]
  },
  {
   "cell_type": "code",
   "execution_count": 4,
   "id": "0403b470-0840-4df8-9e4c-638a65f999ed",
   "metadata": {},
   "outputs": [
    {
     "data": {
      "text/plain": [
       "(array([[15, 10,  9],\n",
       "        [ 9, 15, 10]]),\n",
       " array([2, 3]))"
      ]
     },
     "execution_count": 4,
     "metadata": {},
     "output_type": "execute_result"
    }
   ],
   "source": [
    "cost_matrix = df_time_delivery.drop(['courier_available'], axis=1).values\n",
    "courier_available_matrix = np.array(df_time_delivery['courier_available'])\n",
    "\n",
    "cost_matrix, courier_available_matrix"
   ]
  },
  {
   "cell_type": "markdown",
   "id": "d15dd8db-4ce8-42fe-8c94-55ffd114e230",
   "metadata": {},
   "source": [
    "In this example the objective function would be:"
   ]
  },
  {
   "cell_type": "markdown",
   "id": "8f0426e9-88ac-4001-8b85-a11f9497be90",
   "metadata": {},
   "source": [
    "$$\\min Z = 15x_{11} + 10x_{12} + 9x_{13} + 9x_{21} + 15x_{22} + 10x_{23}$$"
   ]
  },
  {
   "cell_type": "markdown",
   "id": "492a4d0c-35fb-419b-a814-91bb29fe3409",
   "metadata": {},
   "source": [
    "- We must ensure that an order will only be fulfilled by one distributor, because if more than one distributor needs to fulfill that order, we will incur additional shipping costs."
   ]
  },
  {
   "cell_type": "markdown",
   "id": "e9220b41-f5fa-4671-9cc4-5c5e87b2d867",
   "metadata": {},
   "source": [
    "$$s.t.$$\n",
    "\n",
    "$$x_{11} + x_{21} = 1$$\n",
    "$$x_{12} + x_{22} = 1$$\n",
    "$$x_{13} + x_{23} = 1$$"
   ]
  },
  {
   "cell_type": "markdown",
   "id": "2e802c92-f4d6-4fd8-9b5a-94386a2a2b88",
   "metadata": {},
   "source": [
    "- **Case of orders grouped on the same route**: Minimization does not consider the factor of requests being fulfilled simultaneously or not. For example: if distributor 1 is responsible for delivering the 3 orders and only has 1 delivery person, the delivery time for the 2nd and 3rd orders will be distorted, as the delivery person will have taken a route that contains the time for the 2 other orders.\n",
    "- We can follow the reasoning of always considering that orders will be fulfilled simultaneously in cases where we have more than 1 delivery person, and add this as a restriction. In our example we will consider that the 2 distributors have 3 delivery men available:"
   ]
  },
  {
   "cell_type": "markdown",
   "id": "ffab66c6-36e5-4547-b670-8178510741ce",
   "metadata": {},
   "source": [
    "$$x_{11} + x_{12} + x_{13} <= 3$$\n",
    "$$x_{21} + x_{22} + x_{23} <= 3$$"
   ]
  },
  {
   "cell_type": "markdown",
   "id": "d0dc39a6-6901-4a3c-ba4a-9b5f677b943f",
   "metadata": {},
   "source": [
    "#### Generalization to any number of distributors and orders"
   ]
  },
  {
   "cell_type": "code",
   "execution_count": 5,
   "id": "6510e569-397b-463c-b076-0a393d6eb080",
   "metadata": {},
   "outputs": [],
   "source": [
    "def print_assignment(list_variables, n_distributor, n_orders):\n",
    "\n",
    "    idx_selected = [i+1 for i, e in enumerate(list_variables) if e == 1]\n",
    "\n",
    "    list_variables = []\n",
    "    for distributor in range(1, n_distributor + 1):\n",
    "        for order in range(1, n_orders + 1):\n",
    "            list_variables.append(f'{distributor}{order}')\n",
    "    \n",
    "    from_to = dict(zip(range(1, n_distributor * n_orders + 1), list_variables))\n",
    "    \n",
    "    for idx in idx_selected:\n",
    "        print(f'Order {from_to[idx][1]} assigned to Distributor {from_to[idx][0]}')"
   ]
  },
  {
   "cell_type": "code",
   "execution_count": 6,
   "id": "bbcbe3b0-93c7-4400-9845-776eff38b2cf",
   "metadata": {},
   "outputs": [],
   "source": [
    "from pyomo.environ import *\n",
    "\n",
    "def min_time_delivery_problem(cost_matrix: np.ndarray, solver_name : str = 'glpk', courier_available: np.ndarray = None):\n",
    "\n",
    "    '''\n",
    "    This function aims to minimize delivery time, given a set of distributors and orders to be served, \n",
    "    and thus determine which orders each distributor must fulfill simultaneously. \n",
    "    \n",
    "    As a primary restriction we consider that an order can only be fulfilled by one distributor. \n",
    "    We also considered the option of adding restrictions related to the number of couriers available to fulfill the order simultaneously.\n",
    "    \n",
    "    :param cost_matrix: Time delivery matrix (distribution x order)\n",
    "    :type cost_matrix: numpy.ndarray\n",
    "\n",
    "    :param solver_name: Same pyomo SolverFactory, more information on possible values -> \n",
    "                   https://pyomo.readthedocs.io/en/stable/working_models.html\n",
    "    :type solver_name: str\n",
    "\n",
    "    :param courier_available (optional): Courier available (distribution x n_courier)\n",
    "    :type courier_available: numpy.ndarray\n",
    "    '''\n",
    "\n",
    "    n_distributor, n_orders  = cost_matrix.shape[0], cost_matrix.shape[1]\n",
    "\n",
    "    model = ConcreteModel()\n",
    "\n",
    "    model.x = VarList(within=NonNegativeReals)\n",
    "    for i in range(n_distributor*n_orders):\n",
    "        model.x.add()\n",
    "\n",
    "    model.obj = Objective(expr=sum([coef * model.x[idx] for coef, idx in zip(cost_matrix.reshape(-1), range(1, (n_distributor*n_orders) + 1))]), \n",
    "                          sense=minimize)\n",
    "\n",
    "    # Restrictions that guarantee that an order will be fulfilled by only one distributor\n",
    "    model.constraint_one_distributor_per_order = ConstraintList()\n",
    "    for distributor in range(1, n_orders + 1):\n",
    "        model.constraint_one_distributor_per_order.add(sum([model.x[idx] for idx in range(distributor, n_orders*n_distributor + 1, n_orders)]) == 1)\n",
    "\n",
    "    if courier_available is not None:\n",
    "        # Restrictions that ensure that the distributor only meets the maximum number of orders according to the \n",
    "        # maximum number of available couriers\n",
    "        model.constraint_courier_available = ConstraintList()\n",
    "        step = n_orders + 1\n",
    "        distributor = 0\n",
    "        for order in range(1, n_orders*n_distributor + 1, n_orders):\n",
    "            model.constraint_courier_available.add(sum([model.x[idx] for idx in range(order, step)]) <= courier_available[distributor])\n",
    "            step += n_orders\n",
    "            distributor+=1\n",
    "\n",
    "    solver = SolverFactory(solver_name)\n",
    "    solver.solve(model)\n",
    "    \n",
    "    return model.obj(), [model.x[idx]() for idx in range(1, n_distributor*n_orders + 1)]"
   ]
  },
  {
   "cell_type": "code",
   "execution_count": 7,
   "id": "90b7d996-ded3-4697-9763-84b8c094b101",
   "metadata": {},
   "outputs": [
    {
     "name": "stdout",
     "output_type": "stream",
     "text": [
      "28.0 [0.0, 1.0, 1.0, 1.0, 0.0, 0.0]\n"
     ]
    }
   ],
   "source": [
    "fun, x = min_time_delivery_problem(cost_matrix)\n",
    "\n",
    "print(fun, x)"
   ]
  },
  {
   "cell_type": "code",
   "execution_count": 8,
   "id": "ba798369-fa52-464b-bf04-b49fa8241a2b",
   "metadata": {},
   "outputs": [
    {
     "name": "stdout",
     "output_type": "stream",
     "text": [
      "Order 2 assigned to Distributor 1\n",
      "Order 3 assigned to Distributor 1\n",
      "Order 1 assigned to Distributor 2\n"
     ]
    }
   ],
   "source": [
    "print_assignment(x, cost_matrix.shape[0], cost_matrix.shape[1])"
   ]
  },
  {
   "cell_type": "code",
   "execution_count": 9,
   "id": "93bed246-319d-4a79-854e-a57d60afe5b0",
   "metadata": {},
   "outputs": [
    {
     "name": "stdout",
     "output_type": "stream",
     "text": [
      "28.0 [0.0, 1.0, 1.0, 1.0, 0.0, 0.0]\n"
     ]
    }
   ],
   "source": [
    "fun, x = min_time_delivery_problem(cost_matrix, courier_available = courier_available_matrix)\n",
    "\n",
    "print(fun, x)"
   ]
  },
  {
   "cell_type": "code",
   "execution_count": 10,
   "id": "ccf1a0c8-ac99-48ed-88d5-f812c295f876",
   "metadata": {},
   "outputs": [
    {
     "name": "stdout",
     "output_type": "stream",
     "text": [
      "Order 2 assigned to Distributor 1\n",
      "Order 3 assigned to Distributor 1\n",
      "Order 1 assigned to Distributor 2\n"
     ]
    }
   ],
   "source": [
    "print_assignment(x, cost_matrix.shape[0], cost_matrix.shape[1])"
   ]
  },
  {
   "cell_type": "markdown",
   "id": "83b50cef-c378-4455-a05a-29913be9252c",
   "metadata": {},
   "source": [
    "#### Specific to the example"
   ]
  },
  {
   "cell_type": "code",
   "execution_count": 11,
   "id": "19475c88-0727-43ab-8fe9-af55ecbbd248",
   "metadata": {},
   "outputs": [
    {
     "name": "stdout",
     "output_type": "stream",
     "text": [
      "Optimal Solution:\n",
      "Objective Value: 28.0\n",
      "x11: 0.0\n",
      "x12: 1.0\n",
      "x13: 1.0\n",
      "x21: 1.0\n",
      "x22: 0.0\n",
      "x23: 0.0\n"
     ]
    }
   ],
   "source": [
    "model = ConcreteModel()\n",
    "\n",
    "model.x11 = Var(within=NonNegativeReals)\n",
    "model.x12 = Var(within=NonNegativeReals)\n",
    "model.x13 = Var(within=NonNegativeReals)\n",
    "model.x21 = Var(within=NonNegativeReals)\n",
    "model.x22 = Var(within=NonNegativeReals)\n",
    "model.x23 = Var(within=NonNegativeReals)\n",
    "\n",
    "model.obj = Objective(expr=15*model.x11 + 10*model.x12 + 9*model.x13 + 9*model.x21 + 15*model.x22 + 10*model.x23, sense=minimize)\n",
    "\n",
    "# Restrictions that guarantee that an order will be fulfilled by only one distributor\n",
    "model.constraint1 = Constraint(expr=model.x11 + model.x21 == 1)\n",
    "model.constraint2 = Constraint(expr=model.x12 + model.x22 == 1)\n",
    "model.constraint3 = Constraint(expr=model.x13 + model.x23 == 1)\n",
    "\n",
    "# Restrictions that ensure that the distributor only meets the maximum number of orders according to the maximum\n",
    "# number of available couriers\n",
    "model.courier_available1 = Constraint(expr=model.x11 + model.x12 + model.x13 <= 2) # 2 courier at distributor 1\n",
    "model.courier_available2 = Constraint(expr=model.x21 + model.x22 + model.x23 <= 1) # 1 courier at distributor 1\n",
    "\n",
    "solver = SolverFactory('glpk')\n",
    "solver.solve(model)\n",
    "\n",
    "print(\"Optimal Solution:\")\n",
    "print(\"Objective Value:\", model.obj())\n",
    "print(\"x11:\", model.x11())\n",
    "print(\"x12:\", model.x12())\n",
    "print(\"x13:\", model.x13())\n",
    "print(\"x21:\", model.x21())\n",
    "print(\"x22:\", model.x22())\n",
    "print(\"x23:\", model.x23())"
   ]
  },
  {
   "cell_type": "code",
   "execution_count": 12,
   "id": "6d4550e4-51e7-4159-8978-6d24ced942f8",
   "metadata": {},
   "outputs": [
    {
     "name": "stdout",
     "output_type": "stream",
     "text": [
      "Order 2 assigned to Distributor 1\n",
      "Order 3 assigned to Distributor 1\n",
      "Order 1 assigned to Distributor 2\n"
     ]
    }
   ],
   "source": [
    "print_assignment([model.x11(), model.x12(), model.x13(), \n",
    "                  model.x21(), model.x22(), model.x23()], cost_matrix.shape[0], cost_matrix.shape[1])"
   ]
  }
 ],
 "metadata": {
  "kernelspec": {
   "display_name": "Python 3 (ipykernel)",
   "language": "python",
   "name": "python3"
  },
  "language_info": {
   "codemirror_mode": {
    "name": "ipython",
    "version": 3
   },
   "file_extension": ".py",
   "mimetype": "text/x-python",
   "name": "python",
   "nbconvert_exporter": "python",
   "pygments_lexer": "ipython3",
   "version": "3.8.10"
  }
 },
 "nbformat": 4,
 "nbformat_minor": 5
}
