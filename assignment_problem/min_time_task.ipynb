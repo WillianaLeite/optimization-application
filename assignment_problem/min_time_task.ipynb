{
 "cells": [
  {
   "cell_type": "markdown",
   "id": "06f4bfcb-f25b-4d3f-89e8-5038971c641b",
   "metadata": {},
   "source": [
    "# Problem\n",
    "\n",
    "In our company we use SCRUM as a project management framework. With each new sprint we go through the process of prioritizing demands and allocating these demands to employees. We have teams with 3 or more data scientists, with different levels of seniority and tasks with varying complexities. \n",
    "\n",
    ">This scenario sometimes makes it difficult for us to allocate the right tasks to the right employees in a way that helps us complete all the sprint tasks."
   ]
  },
  {
   "cell_type": "markdown",
   "id": "0e41ce36-8bde-4a58-aa31-6ec2db9ccd67",
   "metadata": {},
   "source": [
    "# Solution\n",
    "\n",
    "We can build an **optimization model to minimize the time used to complete demands**. This problem falls into the class of assignment problems, a special case of transportation problems. \n",
    "\n",
    "The optimization model will receive as input the estimated time that each employee would take to complete each of the tasks. The model will then find which task each employee should do in a way that minimizes task completion time. \n",
    "\n",
    "\n",
    "This problem falls into the class of assignment problems, a special case of transportation problems. The optimization model will receive as input the estimated time that each employee would take to complete each of the tasks. The model will then find which task each employee should do in a way that minimizes task completion time.\n",
    "\n",
    "Each employee-task combination will be a decision variable whose coefficient will be the estimated time to complete the task (cost). As a constraint we need to ensure that each employee is allocated to only one task and each task is allocated to only one employee. As output we will have variables with a value of 0 or 1, and the variables with a value of 1 will be the combinations that minimize time. \n",
    "\n",
    "In this notebook we cover two different ways of doing this optimization:\n",
    "- using scipy\n",
    "- using pyomo"
   ]
  },
  {
   "cell_type": "markdown",
   "id": "1027cc93-2167-4083-9342-efb2636fc33c",
   "metadata": {},
   "source": [
    "### Example"
   ]
  },
  {
   "cell_type": "code",
   "execution_count": 1,
   "id": "c415cd64-2302-4dcf-a999-dd5d1f639843",
   "metadata": {},
   "outputs": [],
   "source": [
    "import pandas as pd"
   ]
  },
  {
   "cell_type": "code",
   "execution_count": 2,
   "id": "644c5e0b-ae6b-4746-92d5-054ba8078a99",
   "metadata": {},
   "outputs": [
    {
     "data": {
      "text/html": [
       "<div>\n",
       "<style scoped>\n",
       "    .dataframe tbody tr th:only-of-type {\n",
       "        vertical-align: middle;\n",
       "    }\n",
       "\n",
       "    .dataframe tbody tr th {\n",
       "        vertical-align: top;\n",
       "    }\n",
       "\n",
       "    .dataframe thead th {\n",
       "        text-align: right;\n",
       "    }\n",
       "</style>\n",
       "<table border=\"1\" class=\"dataframe\">\n",
       "  <thead>\n",
       "    <tr style=\"text-align: right;\">\n",
       "      <th></th>\n",
       "      <th>task_1</th>\n",
       "      <th>task_2</th>\n",
       "      <th>task_3</th>\n",
       "    </tr>\n",
       "    <tr>\n",
       "      <th>employee</th>\n",
       "      <th></th>\n",
       "      <th></th>\n",
       "      <th></th>\n",
       "    </tr>\n",
       "  </thead>\n",
       "  <tbody>\n",
       "    <tr>\n",
       "      <th>mateus</th>\n",
       "      <td>15</td>\n",
       "      <td>10</td>\n",
       "      <td>9</td>\n",
       "    </tr>\n",
       "    <tr>\n",
       "      <th>maria</th>\n",
       "      <td>9</td>\n",
       "      <td>15</td>\n",
       "      <td>10</td>\n",
       "    </tr>\n",
       "    <tr>\n",
       "      <th>joao</th>\n",
       "      <td>10</td>\n",
       "      <td>12</td>\n",
       "      <td>8</td>\n",
       "    </tr>\n",
       "  </tbody>\n",
       "</table>\n",
       "</div>"
      ],
      "text/plain": [
       "          task_1  task_2  task_3\n",
       "employee                        \n",
       "mateus        15      10       9\n",
       "maria          9      15      10\n",
       "joao          10      12       8"
      ]
     },
     "execution_count": 2,
     "metadata": {},
     "output_type": "execute_result"
    }
   ],
   "source": [
    "df = (\n",
    "    pd.DataFrame([('mateus', 15, 10, 9), \n",
    "                  ('maria', 9, 15, 10), \n",
    "                  ('joao', 10, 12, 8)], columns=['employee', 'task_1', 'task_2', 'task_3'])\n",
    "      .set_index('employee')\n",
    ")\n",
    "\n",
    "df"
   ]
  },
  {
   "cell_type": "code",
   "execution_count": 3,
   "id": "4b5865bf-b334-4870-b77e-64bc9f1c4dc5",
   "metadata": {},
   "outputs": [
    {
     "data": {
      "text/plain": [
       "array([[15, 10,  9],\n",
       "       [ 9, 15, 10],\n",
       "       [10, 12,  8]])"
      ]
     },
     "execution_count": 3,
     "metadata": {},
     "output_type": "execute_result"
    }
   ],
   "source": [
    "cost_matrix = df.values\n",
    "\n",
    "cost_matrix"
   ]
  },
  {
   "cell_type": "markdown",
   "id": "11a1ffe3-48bf-487f-8efc-ca308e6bd22d",
   "metadata": {},
   "source": [
    "In this example the objective function would be:"
   ]
  },
  {
   "cell_type": "markdown",
   "id": "ccf4a81f-d73a-40e7-9268-c212b15c2f7c",
   "metadata": {},
   "source": [
    "$$\\min Z = 15x_{11} + 10x_{12} + 9x_{13} + 9x_{21} + 15x_{22} + 10x_{23} + 10x_{31} + 12x_{32} + 8x_{33}$$"
   ]
  },
  {
   "cell_type": "markdown",
   "id": "32e802a5-26e1-4a86-bb07-66682e2e1d09",
   "metadata": {},
   "source": [
    "$$s.t.$$\n",
    "$$x_{11} + x_{12} + x_{13} = 1$$\n",
    "$$x_{21} + x_{22} + x_{23} = 1$$\n",
    "$$x_{31} + x_{32} + x_{33} = 1$$\n",
    "\n",
    "$$x_{11} + x_{21} + x_{31} = 1$$\n",
    "$$x_{12} + x_{22} + x_{32} = 1$$\n",
    "$$x_{13} + x_{23} + x_{33} = 1$$"
   ]
  },
  {
   "cell_type": "markdown",
   "id": "d7a74e97-5d0f-4337-ac50-99aeeed0cd7f",
   "metadata": {},
   "source": [
    "where,\n",
    "- $x_{11}$ = mateus-t1\n",
    "- $x_{12}$ = mateus-t2\n",
    "- $x_{13}$ = mateus-t3\n",
    "\n",
    "- $x_{21}$ = maria-t1\n",
    "- $x_{22}$ = maria-t2\n",
    "- $x_{23}$ = maria-t3\n",
    "\n",
    "- $x_{31}$ = joao-t1\n",
    "- $x_{32}$ = joao-t2\n",
    "- $x_{33}$ = joao-t3\n"
   ]
  },
  {
   "cell_type": "code",
   "execution_count": 4,
   "id": "8ac73c69-27fe-46fa-b7ea-f2091b34846c",
   "metadata": {},
   "outputs": [],
   "source": [
    "def print_assignment(list_variables, n):\n",
    "\n",
    "    count = 0\n",
    "    for destination in range(n):\n",
    "        sources = list(list_variables[count:count + n])\n",
    "        count += n\n",
    "        print(f'Task {destination + 1} assigned to Worker {sources.index(1.) + 1}')"
   ]
  },
  {
   "cell_type": "markdown",
   "id": "1c60e6cd-e83e-4a81-ac4b-1d56994197fd",
   "metadata": {},
   "source": [
    "### Scipy"
   ]
  },
  {
   "cell_type": "code",
   "execution_count": 5,
   "id": "c7f04262-5da6-4f2a-b099-cd116f487e3d",
   "metadata": {},
   "outputs": [],
   "source": [
    "from scipy.optimize import linprog\n",
    "import numpy as np\n",
    "\n",
    "def min_assignment_problem(cost_matrix: np.ndarray, method : str = 'highs'):\n",
    "\n",
    "    '''\n",
    "    This function is a generalization of the assignment problem.\n",
    "    Given a cost matrix, and respecting the principle of balancing (quadratic cost matrix), this function builds a minimizer that \n",
    "    determines which source-output should be used to minimize the cost. \n",
    "\n",
    "    The return is the minimization cost of the function and a vector with binary values, where 1 = variable (origin-destination) of \n",
    "    that position is the designation that minimizes the cost.\n",
    "    \n",
    "    :param cost_matrix: Cost matrix (origin x destination)\n",
    "    :type cost_matrix: numpy.ndarray\n",
    "\n",
    "    :param method: Same scipy, more information on possible values -> \n",
    "                   https://docs.scipy.org/doc/scipy/reference/generated/scipy.optimize.linprog.html\n",
    "    :type method: str\n",
    "    '''\n",
    "\n",
    "    n = cost_matrix.shape[0]\n",
    "\n",
    "    if cost_matrix.shape[0] != cost_matrix.shape[1]:\n",
    "        raise ValueError('The matrix must have the same number of rows and columns')\n",
    "    \n",
    "    list_inequalities = np.zeros(shape=((n + n), (n * n)))\n",
    "    list_upper_bound = np.full((n + n), -1)\n",
    "    \n",
    "    # Constraints that ensure that a source will only be associated with one destination (1 worker -> 1 task)\n",
    "    step = 0\n",
    "    for source in range(n):    \n",
    "        list_inequalities[source, step:step + n] = -1\n",
    "        step += n\n",
    "    \n",
    "    # Constraints that ensure that the destination will only be associated with one source (1 task -> 1 worker)\n",
    "    count = 0\n",
    "    for destination in range(n, n + n):\n",
    "        for source in range(count, (n * n), n):\n",
    "            list_inequalities[destination, source] = -1\n",
    "        count+=1\n",
    "    \n",
    "    res = linprog(cost_matrix.reshape(-1), A_ub=list_inequalities, b_ub=list_upper_bound, bounds=(0, None), method=method)\n",
    "\n",
    "    return res.fun, res.x"
   ]
  },
  {
   "cell_type": "code",
   "execution_count": 6,
   "id": "d886d9af-5c4d-4a42-8211-38fc9da358c5",
   "metadata": {},
   "outputs": [
    {
     "name": "stdout",
     "output_type": "stream",
     "text": [
      "27.0 [ 0.  1.  0.  1.  0. -0.  0. -0.  1.]\n"
     ]
    }
   ],
   "source": [
    "fun, x = min_assignment_problem(cost_matrix)\n",
    "\n",
    "print(fun, x)"
   ]
  },
  {
   "cell_type": "code",
   "execution_count": 7,
   "id": "35775d74-3f1f-4c37-98d1-5366a85e5a39",
   "metadata": {},
   "outputs": [
    {
     "name": "stdout",
     "output_type": "stream",
     "text": [
      "Task 1 assigned to Worker 2\n",
      "Task 2 assigned to Worker 1\n",
      "Task 3 assigned to Worker 3\n"
     ]
    }
   ],
   "source": [
    "print_assignment(x, cost_matrix.shape[0])"
   ]
  },
  {
   "cell_type": "markdown",
   "id": "a4314ef1-e11d-4544-9aa0-3cdb596904c1",
   "metadata": {},
   "source": [
    "### Pyomo"
   ]
  },
  {
   "cell_type": "code",
   "execution_count": 8,
   "id": "8e6a7741-a850-4311-ab98-8cef393c80d3",
   "metadata": {},
   "outputs": [],
   "source": [
    "from pyomo.environ import *\n",
    "\n",
    "def min_assignment_problem(cost_matrix: np.ndarray, solver_name : str = 'glpk'):\n",
    "\n",
    "    '''\n",
    "    This function is a generalization of the assignment problem.\n",
    "    Given a cost matrix, and respecting the principle of balancing (quadratic cost matrix), this function builds a minimizer that \n",
    "    determines which source-output should be used to minimize the cost. \n",
    "\n",
    "    The return is the minimization cost of the function and a vector with binary values, where 1 = variable (origin-destination) of \n",
    "    that position is the designation that minimizes the cost.\n",
    "    \n",
    "    :param cost_matrix: Cost matrix (origin x destination)\n",
    "    :type cost_matrix: numpy.ndarray\n",
    "\n",
    "    :param solver_name: Same pyomo SolverFactory, more information on possible values -> \n",
    "                   https://pyomo.readthedocs.io/en/stable/working_models.html\n",
    "    :type solver_name: str\n",
    "    '''\n",
    "\n",
    "    n = cost_matrix.shape[0]\n",
    "\n",
    "    if cost_matrix.shape[0] != cost_matrix.shape[1]:\n",
    "        raise ValueError('The matrix must have the same number of rows and columns')\n",
    "\n",
    "    model = ConcreteModel()\n",
    "\n",
    "    model.x = VarList(within=NonNegativeReals)\n",
    "    for i in range(n*n):\n",
    "        model.x.add()\n",
    "\n",
    "    model.obj = Objective(expr=sum([coef * model.x[idx] for coef, idx in zip(cost_matrix.reshape(-1), range(1, (n*n) + 1))]), \n",
    "                          sense=minimize)\n",
    "\n",
    "    # Constraints that ensure that a source will only be associated with one destination (1 worker -> 1 task)\n",
    "    model.constraint_one_source = ConstraintList()\n",
    "    step = n + 1\n",
    "    for source in range(1, n*n + 1, n):\n",
    "        model.constraint_one_source.add(sum([model.x[idx] for idx in range(source, step)]) == 1)\n",
    "        step += n\n",
    "\n",
    "    # Constraints that ensure that the destination will only be associated with one source (1 task -> 1 worker)\n",
    "    model.constraint_one_destination = ConstraintList()\n",
    "    for destination in range(1, n + 1):\n",
    "        model.constraint_one_destination.add(sum([model.x[idx] for idx in range(destination, n*n + 1, n)]) == 1)\n",
    "\n",
    "    solver = SolverFactory(solver_name)\n",
    "    solver.solve(model)\n",
    "    \n",
    "    return model.obj(), [model.x[idx]() for idx in range(1, n*n + 1)]"
   ]
  },
  {
   "cell_type": "code",
   "execution_count": 9,
   "id": "61e9a610-b559-4eaf-a666-740827c8892c",
   "metadata": {},
   "outputs": [
    {
     "name": "stdout",
     "output_type": "stream",
     "text": [
      "27.0 [0.0, 1.0, 0.0, 1.0, 0.0, 0.0, 0.0, 0.0, 1.0]\n"
     ]
    }
   ],
   "source": [
    "fun, x = min_assignment_problem(cost_matrix)\n",
    "\n",
    "print(fun, x)"
   ]
  },
  {
   "cell_type": "code",
   "execution_count": 10,
   "id": "85e7e277-1d8f-4d9e-904b-c8c684e8a268",
   "metadata": {},
   "outputs": [
    {
     "name": "stdout",
     "output_type": "stream",
     "text": [
      "Task 1 assigned to Worker 2\n",
      "Task 2 assigned to Worker 1\n",
      "Task 3 assigned to Worker 3\n"
     ]
    }
   ],
   "source": [
    "print_assignment(x, cost_matrix.shape[0])"
   ]
  },
  {
   "cell_type": "markdown",
   "id": "f9be0a65-b183-4fcb-a0ae-a86cc2f5c330",
   "metadata": {},
   "source": [
    "## Some References:\n",
    "- https://medium.com/aimonks/linear-programming-and-the-simplex-method-building-and-comparing-implementations-in-python-6e015c449409\n",
    "- https://towardsdatascience.com/a-beginners-guide-to-linear-programming-and-the-simplex-algorithm-87db017e92b4\n",
    "- https://towardsdatascience.com/some-thoughts-on-synergies-between-operations-research-and-machine-learning-921d78ed4bd5"
   ]
  }
 ],
 "metadata": {
  "kernelspec": {
   "display_name": "Python 3 (ipykernel)",
   "language": "python",
   "name": "python3"
  },
  "language_info": {
   "codemirror_mode": {
    "name": "ipython",
    "version": 3
   },
   "file_extension": ".py",
   "mimetype": "text/x-python",
   "name": "python",
   "nbconvert_exporter": "python",
   "pygments_lexer": "ipython3",
   "version": "3.8.10"
  }
 },
 "nbformat": 4,
 "nbformat_minor": 5
}
